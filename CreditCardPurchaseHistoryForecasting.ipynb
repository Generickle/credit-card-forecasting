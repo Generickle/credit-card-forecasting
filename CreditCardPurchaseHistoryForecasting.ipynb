{
 "cells": [
  {
   "cell_type": "markdown",
   "metadata": {},
   "source": [
    "# Forecasting"
   ]
  },
  {
   "cell_type": "markdown",
   "metadata": {},
   "source": [
    "## Config environemnt"
   ]
  },
  {
   "cell_type": "code",
   "execution_count": 1,
   "metadata": {},
   "outputs": [],
   "source": [
    "# Import library to use operating system functions\n",
    "import os"
   ]
  },
  {
   "cell_type": "code",
   "execution_count": 2,
   "metadata": {},
   "outputs": [
    {
     "name": "stdout",
     "output_type": "stream",
     "text": [
      "/Users/macbookpro/Developer/GitHub/Generickle/credit-card-forecasting/.DS_Store\n",
      "/Users/macbookpro/Developer/GitHub/Generickle/credit-card-forecasting/LICENSE\n",
      "/Users/macbookpro/Developer/GitHub/Generickle/credit-card-forecasting/CreditCardPurchaseHistoryForecasting.ipynb\n",
      "/Users/macbookpro/Developer/GitHub/Generickle/credit-card-forecasting/UCI_Credit_Card.csv\n",
      "/Users/macbookpro/Developer/GitHub/Generickle/credit-card-forecasting/CreditCardPurchases.csv\n",
      "/Users/macbookpro/Developer/GitHub/Generickle/credit-card-forecasting/README.md\n",
      "/Users/macbookpro/Developer/GitHub/Generickle/credit-card-forecasting/PJME_hourly.csv\n",
      "/Users/macbookpro/Developer/GitHub/Generickle/credit-card-forecasting/.gitignore\n",
      "/Users/macbookpro/Developer/GitHub/Generickle/credit-card-forecasting/CreditCardBalanceForecasting.ipynb\n",
      "/Users/macbookpro/Developer/GitHub/Generickle/credit-card-forecasting/.git/.DS_Store\n",
      "/Users/macbookpro/Developer/GitHub/Generickle/credit-card-forecasting/.git/config\n",
      "/Users/macbookpro/Developer/GitHub/Generickle/credit-card-forecasting/.git/HEAD\n",
      "/Users/macbookpro/Developer/GitHub/Generickle/credit-card-forecasting/.git/description\n",
      "/Users/macbookpro/Developer/GitHub/Generickle/credit-card-forecasting/.git/index\n",
      "/Users/macbookpro/Developer/GitHub/Generickle/credit-card-forecasting/.git/packed-refs\n",
      "/Users/macbookpro/Developer/GitHub/Generickle/credit-card-forecasting/.git/COMMIT_EDITMSG\n",
      "/Users/macbookpro/Developer/GitHub/Generickle/credit-card-forecasting/.git/FETCH_HEAD\n",
      "/Users/macbookpro/Developer/GitHub/Generickle/credit-card-forecasting/.git/objects/.DS_Store\n",
      "/Users/macbookpro/Developer/GitHub/Generickle/credit-card-forecasting/.git/objects/0d/064a030a7564681005587f2e2ec2f09173a4a2\n",
      "/Users/macbookpro/Developer/GitHub/Generickle/credit-card-forecasting/.git/objects/92/146ef24611276e6bb9b586118624c2a71099ae\n",
      "/Users/macbookpro/Developer/GitHub/Generickle/credit-card-forecasting/.git/objects/0c/29b6255b6a238f871d422a2c339947e2a0a535\n",
      "/Users/macbookpro/Developer/GitHub/Generickle/credit-card-forecasting/.git/objects/69/a03716fb9dbb34e8ca59bcc7c650e1ffbaa034\n",
      "/Users/macbookpro/Developer/GitHub/Generickle/credit-card-forecasting/.git/objects/67/1c9a752f26da8d94e23d6a61e07fb5f08a30ea\n",
      "/Users/macbookpro/Developer/GitHub/Generickle/credit-card-forecasting/.git/objects/60/4164a9a77685a765f46e16e0a4ae94c8a084d3\n",
      "/Users/macbookpro/Developer/GitHub/Generickle/credit-card-forecasting/.git/objects/a4/73520906e9d2b7abfa248f9f1ccbcd3824bf15\n",
      "/Users/macbookpro/Developer/GitHub/Generickle/credit-card-forecasting/.git/objects/df/1457f24c83eef3cc2291a429207a7f2646d1df\n",
      "/Users/macbookpro/Developer/GitHub/Generickle/credit-card-forecasting/.git/objects/e2/ef1940affcf81a6a4a428a6178c5c7923c0ced\n",
      "/Users/macbookpro/Developer/GitHub/Generickle/credit-card-forecasting/.git/objects/c0/acac8d40e7a43a0ad6866f569b90d67c21c50a\n",
      "/Users/macbookpro/Developer/GitHub/Generickle/credit-card-forecasting/.git/objects/pack/pack-be0fd089e99b8793847f75c6d3c8e223259bfe7c.pack\n",
      "/Users/macbookpro/Developer/GitHub/Generickle/credit-card-forecasting/.git/objects/pack/pack-be0fd089e99b8793847f75c6d3c8e223259bfe7c.idx\n",
      "/Users/macbookpro/Developer/GitHub/Generickle/credit-card-forecasting/.git/objects/pack/pack-be0fd089e99b8793847f75c6d3c8e223259bfe7c.rev\n",
      "/Users/macbookpro/Developer/GitHub/Generickle/credit-card-forecasting/.git/objects/87/3c581e2e01a5bb5102a1d8e51d1d1447a81afa\n",
      "/Users/macbookpro/Developer/GitHub/Generickle/credit-card-forecasting/.git/objects/28/c7f89b36a4da0da08b017cddeed3f7e3c1b97c\n",
      "/Users/macbookpro/Developer/GitHub/Generickle/credit-card-forecasting/.git/objects/7e/6fab2e57e850cfc75f9413993c0a0bc2db31ef\n",
      "/Users/macbookpro/Developer/GitHub/Generickle/credit-card-forecasting/.git/objects/4d/a9cf57cbfc8538bf8ac10e07f5f0624411a1a8\n",
      "/Users/macbookpro/Developer/GitHub/Generickle/credit-card-forecasting/.git/objects/81/73e75b93f6d6992a3b77708d885a9060691170\n",
      "/Users/macbookpro/Developer/GitHub/Generickle/credit-card-forecasting/.git/objects/5d/657d96b3e518aa150fc3b6043a659c6a42eed8\n",
      "/Users/macbookpro/Developer/GitHub/Generickle/credit-card-forecasting/.git/objects/91/040948e96af9397df91b18a2d3ad4d294a0e38\n",
      "/Users/macbookpro/Developer/GitHub/Generickle/credit-card-forecasting/.git/objects/97/5fe0e7c5c9da76c684b711b556fa85745bdf47\n",
      "/Users/macbookpro/Developer/GitHub/Generickle/credit-card-forecasting/.git/objects/d3/a1f7533acec771a6ac5884c88fdd6baffa55bc\n",
      "/Users/macbookpro/Developer/GitHub/Generickle/credit-card-forecasting/.git/objects/d4/d3b2b8d0233d38c7b3072cc4eb8d1ff1066af8\n",
      "/Users/macbookpro/Developer/GitHub/Generickle/credit-card-forecasting/.git/objects/cd/de6784e746557a75cb3e97149f95197430920c\n",
      "/Users/macbookpro/Developer/GitHub/Generickle/credit-card-forecasting/.git/objects/e9/7f15e9832a6fbcecf77e130eca8c27332fe5d9\n",
      "/Users/macbookpro/Developer/GitHub/Generickle/credit-card-forecasting/.git/objects/e9/bb9c1d4f746c2742ebd26f8769b5e3788126b2\n",
      "/Users/macbookpro/Developer/GitHub/Generickle/credit-card-forecasting/.git/objects/f1/715d6ab03d2c2b82bacdc3a5b08944e5e7b272\n",
      "/Users/macbookpro/Developer/GitHub/Generickle/credit-card-forecasting/.git/objects/83/8721087b44866000ddd3571459ce99b9eddb57\n",
      "/Users/macbookpro/Developer/GitHub/Generickle/credit-card-forecasting/.git/objects/23/0f6d63c9ed00de890af160edc0b771e7f5edb7\n",
      "/Users/macbookpro/Developer/GitHub/Generickle/credit-card-forecasting/.git/objects/2b/dee1e5aa944eeefc7da1e74ef8a13dd7bdeb35\n",
      "/Users/macbookpro/Developer/GitHub/Generickle/credit-card-forecasting/.git/objects/47/7f47acf659403b7b4f0b2a1db9ca8f7492c658\n",
      "/Users/macbookpro/Developer/GitHub/Generickle/credit-card-forecasting/.git/objects/22/8aa39cb63c8024395711535f75fa78cdd94192\n",
      "/Users/macbookpro/Developer/GitHub/Generickle/credit-card-forecasting/.git/info/exclude\n",
      "/Users/macbookpro/Developer/GitHub/Generickle/credit-card-forecasting/.git/logs/HEAD\n",
      "/Users/macbookpro/Developer/GitHub/Generickle/credit-card-forecasting/.git/logs/refs/heads/main\n",
      "/Users/macbookpro/Developer/GitHub/Generickle/credit-card-forecasting/.git/logs/refs/remotes/origin/HEAD\n",
      "/Users/macbookpro/Developer/GitHub/Generickle/credit-card-forecasting/.git/logs/refs/remotes/origin/main\n",
      "/Users/macbookpro/Developer/GitHub/Generickle/credit-card-forecasting/.git/hooks/commit-msg.sample\n",
      "/Users/macbookpro/Developer/GitHub/Generickle/credit-card-forecasting/.git/hooks/pre-rebase.sample\n",
      "/Users/macbookpro/Developer/GitHub/Generickle/credit-card-forecasting/.git/hooks/sendemail-validate.sample\n",
      "/Users/macbookpro/Developer/GitHub/Generickle/credit-card-forecasting/.git/hooks/pre-commit.sample\n",
      "/Users/macbookpro/Developer/GitHub/Generickle/credit-card-forecasting/.git/hooks/applypatch-msg.sample\n",
      "/Users/macbookpro/Developer/GitHub/Generickle/credit-card-forecasting/.git/hooks/fsmonitor-watchman.sample\n",
      "/Users/macbookpro/Developer/GitHub/Generickle/credit-card-forecasting/.git/hooks/pre-receive.sample\n",
      "/Users/macbookpro/Developer/GitHub/Generickle/credit-card-forecasting/.git/hooks/prepare-commit-msg.sample\n",
      "/Users/macbookpro/Developer/GitHub/Generickle/credit-card-forecasting/.git/hooks/post-update.sample\n",
      "/Users/macbookpro/Developer/GitHub/Generickle/credit-card-forecasting/.git/hooks/pre-merge-commit.sample\n",
      "/Users/macbookpro/Developer/GitHub/Generickle/credit-card-forecasting/.git/hooks/pre-applypatch.sample\n",
      "/Users/macbookpro/Developer/GitHub/Generickle/credit-card-forecasting/.git/hooks/pre-push.sample\n",
      "/Users/macbookpro/Developer/GitHub/Generickle/credit-card-forecasting/.git/hooks/update.sample\n",
      "/Users/macbookpro/Developer/GitHub/Generickle/credit-card-forecasting/.git/hooks/push-to-checkout.sample\n",
      "/Users/macbookpro/Developer/GitHub/Generickle/credit-card-forecasting/.git/refs/heads/main\n",
      "/Users/macbookpro/Developer/GitHub/Generickle/credit-card-forecasting/.git/refs/remotes/origin/HEAD\n",
      "/Users/macbookpro/Developer/GitHub/Generickle/credit-card-forecasting/.git/refs/remotes/origin/main\n"
     ]
    }
   ],
   "source": [
    "# Set workspace\n",
    "for dirname, _, filenames in os.walk('/Users/macbookpro/Developer/GitHub/Generickle/credit-card-forecasting'):\n",
    "    for filename in filenames:\n",
    "        print(os.path.join(dirname, filename))"
   ]
  },
  {
   "cell_type": "markdown",
   "metadata": {},
   "source": [
    "## Load data"
   ]
  },
  {
   "cell_type": "code",
   "execution_count": 18,
   "metadata": {},
   "outputs": [],
   "source": [
    "# Import library to manage files\n",
    "import pandas as pd"
   ]
  },
  {
   "cell_type": "code",
   "execution_count": 4,
   "metadata": {},
   "outputs": [
    {
     "data": {
      "text/html": [
       "<div>\n",
       "<style scoped>\n",
       "    .dataframe tbody tr th:only-of-type {\n",
       "        vertical-align: middle;\n",
       "    }\n",
       "\n",
       "    .dataframe tbody tr th {\n",
       "        vertical-align: top;\n",
       "    }\n",
       "\n",
       "    .dataframe thead th {\n",
       "        text-align: right;\n",
       "    }\n",
       "</style>\n",
       "<table border=\"1\" class=\"dataframe\">\n",
       "  <thead>\n",
       "    <tr style=\"text-align: right;\">\n",
       "      <th></th>\n",
       "      <th>PJME_MW</th>\n",
       "    </tr>\n",
       "    <tr>\n",
       "      <th>Datetime</th>\n",
       "      <th></th>\n",
       "    </tr>\n",
       "  </thead>\n",
       "  <tbody>\n",
       "    <tr>\n",
       "      <th>2002-12-31 01:00:00</th>\n",
       "      <td>26498.0</td>\n",
       "    </tr>\n",
       "    <tr>\n",
       "      <th>2002-12-31 02:00:00</th>\n",
       "      <td>25147.0</td>\n",
       "    </tr>\n",
       "    <tr>\n",
       "      <th>2002-12-31 03:00:00</th>\n",
       "      <td>24574.0</td>\n",
       "    </tr>\n",
       "    <tr>\n",
       "      <th>2002-12-31 04:00:00</th>\n",
       "      <td>24393.0</td>\n",
       "    </tr>\n",
       "    <tr>\n",
       "      <th>2002-12-31 05:00:00</th>\n",
       "      <td>24860.0</td>\n",
       "    </tr>\n",
       "  </tbody>\n",
       "</table>\n",
       "</div>"
      ],
      "text/plain": [
       "                     PJME_MW\n",
       "Datetime                    \n",
       "2002-12-31 01:00:00  26498.0\n",
       "2002-12-31 02:00:00  25147.0\n",
       "2002-12-31 03:00:00  24574.0\n",
       "2002-12-31 04:00:00  24393.0\n",
       "2002-12-31 05:00:00  24860.0"
      ]
     },
     "execution_count": 4,
     "metadata": {},
     "output_type": "execute_result"
    }
   ],
   "source": [
    "# Load dataset\n",
    "pjme_hourly_data = pd.read_csv('PJME_hourly.csv', index_col=[0], parse_dates=[0])\n",
    "\n",
    "pjme_hourly_data.head()"
   ]
  },
  {
   "cell_type": "code",
   "execution_count": 18,
   "metadata": {},
   "outputs": [],
   "source": [
    "# Remove non-numeric characters and convert to float\n",
    "# pjme_hourly_data['PJME_MW'] = pjme_hourly_data['PJME_MW'].str.replace('Q. ', '', regex=True)\n",
    "# pjme_hourly_data['MONTHLY'] = pjme_hourly_data['MONTHLY'].str.replace('Q. ', '', regex=True)\n",
    "\n",
    "# pjme_hourly_data['PJME_MW'] = pjme_hourly_data['PJME_MW'].str.replace(',', '', regex=True).astype(float)\n",
    "# pjme_hourly_data['MONTHLY'] = pjme_hourly_data['MONTHLY'].str.replace(',', '', regex=True).astype(float)\n",
    "\n",
    "# pjme_hourly_data.head()"
   ]
  },
  {
   "cell_type": "markdown",
   "metadata": {},
   "source": [
    "## EDA"
   ]
  },
  {
   "cell_type": "code",
   "execution_count": 5,
   "metadata": {},
   "outputs": [
    {
     "name": "stdout",
     "output_type": "stream",
     "text": [
      "             PJME_MW\n",
      "count  145366.000000\n",
      "mean    32080.222831\n",
      "std      6464.012166\n",
      "min     14544.000000\n",
      "25%     27573.000000\n",
      "50%     31421.000000\n",
      "75%     35650.000000\n",
      "max     62009.000000\n"
     ]
    }
   ],
   "source": [
    "# Stats summary\n",
    "print(pjme_hourly_data.describe())"
   ]
  },
  {
   "cell_type": "code",
   "execution_count": 6,
   "metadata": {},
   "outputs": [
    {
     "data": {
      "text/plain": [
       "PJME_MW    0\n",
       "dtype: int64"
      ]
     },
     "execution_count": 6,
     "metadata": {},
     "output_type": "execute_result"
    }
   ],
   "source": [
    "# Verify null data\n",
    "pjme_hourly_data.isnull().sum()"
   ]
  },
  {
   "cell_type": "code",
   "execution_count": 7,
   "metadata": {},
   "outputs": [],
   "source": [
    "import matplotlib.pyplot as plt\n",
    "import seaborn as sns"
   ]
  },
  {
   "cell_type": "code",
   "execution_count": 8,
   "metadata": {},
   "outputs": [
    {
     "data": {
      "image/png": "[encoded data removed]",
      "text/plain": [
       "<Figure size 400x200 with 1 Axes>"
      ]
     },
     "metadata": {},
     "output_type": "display_data"
    }
   ],
   "source": [
    "# Histograms for numeric variables\n",
    "pjme_hourly_data_columns = pjme_hourly_data.select_dtypes(include = ['float64', 'int64']).columns\n",
    "\n",
    "for col in pjme_hourly_data_columns:\n",
    "    plt.figure(figsize = (4, 2))\n",
    "    sns.histplot(pjme_hourly_data[col], kde = True, bins = 30)\n",
    "    plt.title(f\"UCI Credit Card Distribution of {col}\")\n",
    "    plt.show()\n"
   ]
  },
  {
   "cell_type": "code",
   "execution_count": 9,
   "metadata": {},
   "outputs": [],
   "source": [
    "pjme_hourly_data = pjme_hourly_data['PJME_MW']"
   ]
  },
  {
   "cell_type": "code",
   "execution_count": 10,
   "metadata": {
    "vscode": {
     "languageId": "ruby"
    }
   },
   "outputs": [
    {
     "data": {
      "image/png": "[encoded data removed]",
      "text/plain": [
       "<Figure size 1500x500 with 1 Axes>"
      ]
     },
     "metadata": {},
     "output_type": "display_data"
    }
   ],
   "source": [
    "_ = pjme_hourly_data.plot(style = '.', figsize = (15,5), title = 'PJME hourly')"
   ]
  },
  {
   "cell_type": "markdown",
   "metadata": {},
   "source": [
    "## Split data"
   ]
  },
  {
   "cell_type": "code",
   "execution_count": 11,
   "metadata": {},
   "outputs": [
    {
     "name": "stdout",
     "output_type": "stream",
     "text": [
      "Datetime\n",
      "2002-12-31 01:00:00    26498.0\n",
      "2002-12-31 02:00:00    25147.0\n",
      "2002-12-31 03:00:00    24574.0\n",
      "2002-12-31 04:00:00    24393.0\n",
      "2002-12-31 05:00:00    24860.0\n",
      "                        ...   \n",
      "2014-01-01 20:00:00    36193.0\n",
      "2014-01-01 21:00:00    35601.0\n",
      "2014-01-01 22:00:00    34242.0\n",
      "2014-01-01 23:00:00    32215.0\n",
      "2014-01-02 00:00:00    30159.0\n",
      "Name: PJME_MW, Length: 113927, dtype: float64\n",
      "Datetime\n",
      "2015-12-31 01:00:00    24305.0\n",
      "2015-12-31 02:00:00    23156.0\n",
      "2015-12-31 03:00:00    22514.0\n",
      "2015-12-31 04:00:00    22330.0\n",
      "2015-12-31 05:00:00    22773.0\n",
      "                        ...   \n",
      "2018-01-01 20:00:00    44284.0\n",
      "2018-01-01 21:00:00    43751.0\n",
      "2018-01-01 22:00:00    42402.0\n",
      "2018-01-01 23:00:00    40164.0\n",
      "2018-01-02 00:00:00    38608.0\n",
      "Name: PJME_MW, Length: 31439, dtype: float64\n"
     ]
    }
   ],
   "source": [
    "split_date = '01-Jan-2015'\n",
    "\n",
    "pjme_hourly_data_train = pjme_hourly_data.loc[pjme_hourly_data.index <= split_date].copy()\n",
    "pjme_hourly_data_test = pjme_hourly_data.loc[pjme_hourly_data.index > split_date].copy()\n",
    "\n",
    "print(pjme_hourly_data_train)\n",
    "print(pjme_hourly_data_test)"
   ]
  },
  {
   "cell_type": "code",
   "execution_count": 19,
   "metadata": {},
   "outputs": [
    {
     "ename": "TypeError",
     "evalue": "rename() got an unexpected keyword argument 'columns'",
     "output_type": "error",
     "traceback": [
      "\u001b[0;31m---------------------------------------------------------------------------\u001b[0m",
      "\u001b[0;31mTypeError\u001b[0m                                 Traceback (most recent call last)",
      "Cell \u001b[0;32mIn[19], line 1\u001b[0m\n\u001b[0;32m----> 1\u001b[0m _ \u001b[38;5;241m=\u001b[39m \u001b[43mpjme_hourly_data_test\u001b[49m\u001b[43m \u001b[49m\u001b[43m\\\u001b[49m\n\u001b[1;32m      2\u001b[0m \u001b[43m    \u001b[49m\u001b[38;5;241;43m.\u001b[39;49m\u001b[43mrename\u001b[49m\u001b[43m(\u001b[49m\u001b[43mcolumns\u001b[49m\u001b[43m \u001b[49m\u001b[38;5;241;43m=\u001b[39;49m\u001b[43m \u001b[49m\u001b[43m{\u001b[49m\u001b[38;5;124;43m'\u001b[39;49m\u001b[38;5;124;43mPJME_MW\u001b[39;49m\u001b[38;5;124;43m'\u001b[39;49m\u001b[43m:\u001b[49m\u001b[43m \u001b[49m\u001b[38;5;124;43m'\u001b[39;49m\u001b[38;5;124;43mTEST SET\u001b[39;49m\u001b[38;5;124;43m'\u001b[39;49m\u001b[43m}\u001b[49m\u001b[43m)\u001b[49m \\\n\u001b[1;32m      3\u001b[0m     \u001b[38;5;241m.\u001b[39mjoin(pjme_hourly_data_train\u001b[38;5;241m.\u001b[39mrename(columns \u001b[38;5;241m=\u001b[39m { \u001b[38;5;124m'\u001b[39m\u001b[38;5;124mPJME_MW\u001b[39m\u001b[38;5;124m'\u001b[39m: \u001b[38;5;124m'\u001b[39m\u001b[38;5;124mTRAINING SET\u001b[39m\u001b[38;5;124m'\u001b[39m }), how \u001b[38;5;241m=\u001b[39m \u001b[38;5;124m'\u001b[39m\u001b[38;5;124mouter\u001b[39m\u001b[38;5;124m'\u001b[39m) \\\n\u001b[1;32m      4\u001b[0m     \u001b[38;5;241m.\u001b[39mplot(figsize \u001b[38;5;241m=\u001b[39m (\u001b[38;5;241m15\u001b[39m, \u001b[38;5;241m5\u001b[39m), title \u001b[38;5;241m=\u001b[39m \u001b[38;5;124m'\u001b[39m\u001b[38;5;124mPJM East\u001b[39m\u001b[38;5;124m'\u001b[39m, style \u001b[38;5;241m=\u001b[39m \u001b[38;5;124m'\u001b[39m\u001b[38;5;124m.\u001b[39m\u001b[38;5;124m'\u001b[39m)\n",
      "\u001b[0;31mTypeError\u001b[0m: rename() got an unexpected keyword argument 'columns'"
     ]
    }
   ],
   "source": [
    "_ = pjme_hourly_data_test \\\n",
    "    .rename(columns = {'PJME_MW': 'TEST SET'}) \\\n",
    "    .join(pjme_hourly_data_train.rename(columns = { 'PJME_MW': 'TRAINING SET' }), how = 'outer') \\\n",
    "    .plot(figsize = (15, 5), title = 'PJM East', style = '.')"
   ]
  },
  {
   "cell_type": "markdown",
   "metadata": {},
   "source": [
    "## Prepare data for Forcasting"
   ]
  },
  {
   "cell_type": "code",
   "execution_count": null,
   "metadata": {},
   "outputs": [],
   "source": [
    "def create_features(df, label=None):\n",
    "    \"\"\"\n",
    "    Creates time series features from datetime index\n",
    "    \"\"\"\n",
    "    df['date'] = df.index\n",
    "    df['hour'] = df['date'].dt.hour\n",
    "    df['dayofweek'] = df['date'].dt.dayofweek\n",
    "    df['quarter'] = df['date'].dt.quarter\n",
    "    df['month'] = df['date'].dt.month\n",
    "    df['year'] = df['date'].dt.year\n",
    "    df['dayofyear'] = df['date'].dt.dayofyear\n",
    "    df['dayofmonth'] = df['date'].dt.day\n",
    "    df['weekofyear'] = df['date'].dt.isocalendar().week\n",
    "    \n",
    "    X = df[['hour','dayofweek','quarter','month','year', 'dayofyear','dayofmonth','weekofyear']]\n",
    "\n",
    "    if label:\n",
    "        y = df[label]\n",
    "\n",
    "        return X, y\n",
    "    \n",
    "    return X"
   ]
  },
  {
   "cell_type": "code",
   "execution_count": null,
   "metadata": {},
   "outputs": [],
   "source": [
    "pjme_hourly_X_train, pjme_hourly_y_train = create_features(pjme_hourly_data_train, label='PJME_MW')\n",
    "pjme_hourly_X_test, pjme_hourly_y_test = create_features(pjme_hourly_data_test, label='PJME_MW')"
   ]
  },
  {
   "cell_type": "code",
   "execution_count": null,
   "metadata": {},
   "outputs": [],
   "source": [
    "pjme_hourly_X_train.head()"
   ]
  },
  {
   "cell_type": "code",
   "execution_count": null,
   "metadata": {},
   "outputs": [],
   "source": [
    "pjme_hourly_X_test.head()"
   ]
  },
  {
   "cell_type": "code",
   "execution_count": null,
   "metadata": {},
   "outputs": [],
   "source": [
    "pjme_hourly_y_train.head()"
   ]
  },
  {
   "cell_type": "code",
   "execution_count": null,
   "metadata": {},
   "outputs": [],
   "source": [
    "pjme_hourly_y_test.head()"
   ]
  },
  {
   "cell_type": "markdown",
   "metadata": {},
   "source": [
    "## XGBoost model"
   ]
  },
  {
   "cell_type": "code",
   "execution_count": null,
   "metadata": {},
   "outputs": [],
   "source": [
    "import xgboost as xgb\n",
    "from xgboost import plot_importance\n",
    "from sklearn.metrics import mean_absolute_error, mean_squared_error, mean_absolute_percentage_error"
   ]
  },
  {
   "cell_type": "code",
   "execution_count": null,
   "metadata": {},
   "outputs": [],
   "source": [
    "pjme_hourly_xgboost_model = xgb.XGBRegressor(n_estimators = 1000, early_stopping_rounds = 50)\n",
    "\n",
    "pjme_hourly_xgboost_model.fit(\n",
    "    pjme_hourly_X_train, pjme_hourly_y_train,\n",
    "    eval_set = [(pjme_hourly_X_train, pjme_hourly_y_train), (pjme_hourly_X_test, pjme_hourly_y_test)],\n",
    "    verbose = True\n",
    ")\n",
    "\n",
    "pjme_hourly_xgboost_model"
   ]
  },
  {
   "cell_type": "code",
   "execution_count": null,
   "metadata": {},
   "outputs": [],
   "source": [
    "# Predict with test data\n",
    "pjme_hourly_xgboost_forecast = pjme_hourly_xgboost_model.predict(pjme_hourly_X_test)\n",
    "\n",
    "# Calculate metrics\n",
    "pjme_hourly_xgboost_mae = mean_absolute_error(pjme_hourly_y_test, pjme_hourly_xgboost_forecast)\n",
    "pjme_hourly_xgboost_mse = mean_squared_error(pjme_hourly_y_test, pjme_hourly_xgboost_forecast)\n",
    "pjme_hourly_xgboost_mape = mean_absolute_percentage_error(pjme_hourly_y_test, pjme_hourly_xgboost_forecast)\n",
    "\n",
    "print(f\"MAE: { pjme_hourly_xgboost_mae }\")\n",
    "print(f\"MSE: { pjme_hourly_xgboost_mse }\")\n",
    "print(f\"MAPE: { pjme_hourly_xgboost_mape }\")"
   ]
  },
  {
   "cell_type": "code",
   "execution_count": null,
   "metadata": {},
   "outputs": [],
   "source": [
    "pjme_hourly_xgboost_forecast"
   ]
  },
  {
   "cell_type": "code",
   "execution_count": null,
   "metadata": {},
   "outputs": [],
   "source": [
    "pjme_hourly_data_test"
   ]
  },
  {
   "cell_type": "code",
   "execution_count": null,
   "metadata": {},
   "outputs": [],
   "source": [
    "pjme_hourly_data_test['MW_XGBOOST_Prediction'] = pjme_hourly_xgboost_forecast\n",
    "\n",
    "pjme_hourly_data_test"
   ]
  },
  {
   "cell_type": "code",
   "execution_count": null,
   "metadata": {},
   "outputs": [],
   "source": [
    "pjme_hourly_xgboost_all = pd.concat([pjme_hourly_data_test, pjme_hourly_data_train], sort=False)\n",
    "\n",
    "_ = pjme_hourly_xgboost_all[['PJME_MW','MW_XGBOOST_Prediction']].plot(figsize=(15, 5))"
   ]
  },
  {
   "cell_type": "code",
   "execution_count": null,
   "metadata": {},
   "outputs": [],
   "source": [
    "import pandas as pd"
   ]
  },
  {
   "cell_type": "code",
   "execution_count": null,
   "metadata": {},
   "outputs": [],
   "source": [
    "pjme_hourly_last_date = pjme_hourly_data_test.index.max()\n",
    "\n",
    "pjme_hourly_last_date"
   ]
  },
  {
   "cell_type": "code",
   "execution_count": null,
   "metadata": {},
   "outputs": [],
   "source": [
    "# Create a future dataframe with hourly datetime index from 2018-08-03 to 2025\n",
    "pjme_hourly_future_dates = pd.date_range(\n",
    "    start = pjme_hourly_last_date,\n",
    "    end = '2025-12-31 23:00:00',\n",
    "    freq = 'H'\n",
    ")\n",
    "\n",
    "pjme_hourly_future_data = pd.DataFrame(index = pjme_hourly_future_dates)\n",
    "\n",
    "pjme_hourly_future_data.head()"
   ]
  },
  {
   "cell_type": "code",
   "execution_count": null,
   "metadata": {},
   "outputs": [],
   "source": [
    "# Generate features for the future dataframe\n",
    "pjme_hourly_future_features = create_features(pjme_hourly_future_data)\n",
    "\n",
    "# Predict the PJME_MW values for the future dataframe\n",
    "pjme_hourly_future_forcasting = pjme_hourly_xgboost_model.predict(pjme_hourly_future_features)\n",
    "\n",
    "# Add the predictions to the future dataframe\n",
    "pjme_hourly_future_data['PJME_MW_XGBOOST_Prediction'] = pjme_hourly_future_forcasting\n",
    "\n",
    "# Display the future dataframe with predictions\n",
    "pjme_hourly_future_data.head()"
   ]
  },
  {
   "cell_type": "code",
   "execution_count": null,
   "metadata": {},
   "outputs": [],
   "source": [
    "# Add future predictions to the combined dataframe\n",
    "pjme_hourly_all = pd.concat([pjme_hourly_data_test, pjme_hourly_data_train, pjme_hourly_future_data], sort=False)\n",
    "\n",
    "# Plot the actual and predicted values including future predictions\n",
    "_ = pjme_hourly_all[['PJME_MW', 'MW_XGBOOST_Prediction', 'PJME_MW_XGBOOST_Prediction']]\\\n",
    "    .plot(figsize = (15, 5), title = 'PJME MW Predictions')"
   ]
  },
  {
   "cell_type": "code",
   "execution_count": null,
   "metadata": {},
   "outputs": [],
   "source": [
    "pjme_hourly_data_train"
   ]
  },
  {
   "cell_type": "code",
   "execution_count": null,
   "metadata": {},
   "outputs": [],
   "source": [
    "pjme_hourly_future_data"
   ]
  },
  {
   "cell_type": "code",
   "execution_count": null,
   "metadata": {},
   "outputs": [],
   "source": [
    "_ = plot_importance(pjme_hourly_xgboost_model, height=0.9)"
   ]
  },
  {
   "cell_type": "markdown",
   "metadata": {},
   "source": [
    "## ARIMA model"
   ]
  },
  {
   "cell_type": "code",
   "execution_count": null,
   "metadata": {},
   "outputs": [],
   "source": [
    "import numpy as np\n",
    "import statsmodels.api as sm"
   ]
  },
  {
   "cell_type": "code",
   "execution_count": null,
   "metadata": {},
   "outputs": [],
   "source": [
    "# Train ARIMA model (p, d, q)\n",
    "pjme_hourly_arima_model = sm.tsa.ARIMA(pjme_hourly_y_train, order = (1, 1, 1))\n",
    "\n",
    "# Explainme the order\n",
    "# p: number of lag observations included in the model\n",
    "# d: number of times that the raw observations are differenced\n",
    "# q: size of the moving average window\n",
    "\n",
    "# What other parameters can be used?\n",
    "# trend: 'n', 'c', 't', 'ct'\n",
    "# enforce_stationarity: True, False\n",
    "# enforce_invertibility: True, False\n",
    "\n",
    "# Train ARIMA model with other parameters\n",
    "#uci_cc_arima_model = sm.tsa.ARIMA(uci_cc_y_train, order = (1,1,1), trend = 'c', enforce_stationarity = False, enforce_invertibility = False)\n",
    "\n",
    "pjme_hourly_arima_model_fit = pjme_hourly_arima_model.fit()\n",
    "\n",
    "# Predict on test set\n",
    "pjme_hourly_arima_forecast = pjme_hourly_arima_model_fit.forecast(steps = len(pjme_hourly_y_test))\n",
    "\n",
    "# Evaluate performance\n",
    "pjme_hourly_arima_mae = mean_absolute_error(pjme_hourly_y_test, pjme_hourly_arima_forecast)\n",
    "pjme_hourly_arima_mse = mean_squared_error(pjme_hourly_y_test, pjme_hourly_arima_forecast)\n",
    "pjme_hourly_arima_mape = mean_absolute_percentage_error(pjme_hourly_y_test, pjme_hourly_arima_forecast)\n",
    "\n",
    "print(f\"ARIMA Model Metrics:\")\n",
    "print(f\"MAE: {pjme_hourly_arima_mae}\")\n",
    "print(f\"MSE: {pjme_hourly_arima_mse}\")\n",
    "print(f\"MAPE: {pjme_hourly_arima_mape}\")"
   ]
  },
  {
   "cell_type": "code",
   "execution_count": null,
   "metadata": {},
   "outputs": [],
   "source": [
    "pjme_hourly_arima_forecast"
   ]
  },
  {
   "cell_type": "code",
   "execution_count": null,
   "metadata": {},
   "outputs": [],
   "source": [
    "pjme_hourly_arima_forecast_array = pjme_hourly_arima_forecast.to_numpy()\n",
    "\n",
    "pjme_hourly_arima_forecast_array"
   ]
  },
  {
   "cell_type": "code",
   "execution_count": null,
   "metadata": {},
   "outputs": [],
   "source": [
    "pjme_hourly_data_test['MW_Arima_Prediction'] = pjme_hourly_arima_forecast_array\n",
    "\n",
    "pjme_hourly_data_test"
   ]
  },
  {
   "cell_type": "code",
   "execution_count": null,
   "metadata": {},
   "outputs": [],
   "source": [
    "pjme_hourly_future_data = pd.DataFrame(index = pjme_hourly_future_dates)\n",
    "\n",
    "pjme_hourly_future_data"
   ]
  },
  {
   "cell_type": "code",
   "execution_count": null,
   "metadata": {},
   "outputs": [],
   "source": [
    "pjme_hourly_arima_future_forecast = pjme_hourly_arima_model_fit.forecast(steps = len(pjme_hourly_future_data))\n",
    "\n",
    "pjme_hourly_arima_future_forecast"
   ]
  },
  {
   "cell_type": "code",
   "execution_count": null,
   "metadata": {},
   "outputs": [],
   "source": [
    "pjme_hourly_arima_future_forecast_array = pjme_hourly_arima_future_forecast.to_numpy()\n",
    "\n",
    "pjme_hourly_arima_future_forecast_array"
   ]
  },
  {
   "cell_type": "code",
   "execution_count": null,
   "metadata": {},
   "outputs": [],
   "source": [
    "# Add the predictions to the future dataframe\n",
    "pjme_hourly_future_data['PJME_MW_ARIMA_Prediction'] = pjme_hourly_future_forcasting\n",
    "\n",
    "# Display the future dataframe with predictions\n",
    "pjme_hourly_future_data.head()"
   ]
  },
  {
   "cell_type": "code",
   "execution_count": null,
   "metadata": {},
   "outputs": [],
   "source": [
    "pjme_hourly_future_data[\"PJME_MW_ARIMA_Prediction\"]"
   ]
  },
  {
   "cell_type": "code",
   "execution_count": null,
   "metadata": {},
   "outputs": [],
   "source": [
    "pjme_hourly_arima_all = pd.concat([pjme_hourly_data_test, pjme_hourly_data_train], sort=False)"
   ]
  },
  {
   "cell_type": "code",
   "execution_count": null,
   "metadata": {},
   "outputs": [],
   "source": [
    "pjme_hourly_arima_all.tail(100)"
   ]
  },
  {
   "cell_type": "code",
   "execution_count": null,
   "metadata": {},
   "outputs": [],
   "source": [
    "# Add future predictions to the combined dataframe\n",
    "pjme_hourly_arima_all = pd.concat([pjme_hourly_data_test, pjme_hourly_data_train, pjme_hourly_future_data], sort=False)\n",
    "\n",
    "# Plot the actual and predicted values including future predictions\n",
    "_ = pjme_hourly_arima_all[['PJME_MW', 'MW_Arima_Prediction', 'PJME_MW_ARIMA_Prediction']]\\\n",
    "    .plot(figsize = (15, 5), title = 'PJME MW Predictions')"
   ]
  },
  {
   "cell_type": "markdown",
   "metadata": {},
   "source": [
    "## SARIMA model"
   ]
  },
  {
   "cell_type": "code",
   "execution_count": null,
   "metadata": {},
   "outputs": [],
   "source": [
    "uci_cc_sarima_model = sm.tsa.SARIMAX(uci_cc_y_train, order=(1,1,1))\n",
    "uci_cc_sarima_model_fit = uci_cc_sarima_model.fit()\n",
    "\n",
    "# Predict with SARIMA\n",
    "uci_cc_sarima_forecast = uci_cc_sarima_model_fit.forecast(steps=len(uci_cc_y_test))\n",
    "\n",
    "# Evaluate performance\n",
    "uci_cc_mae = mean_absolute_error(uci_cc_y_test, uci_cc_sarima_forecast)\n",
    "uci_cc_mse = mean_squared_error(uci_cc_y_test, uci_cc_sarima_forecast)\n",
    "uci_cc_mape = mean_absolute_percentage_error(uci_cc_y_test, uci_cc_sarima_forecast)\n",
    "\n",
    "print(f\"ARIMA Model Metrics:\")\n",
    "print(f\"MAE: {uci_cc_mae}\")\n",
    "print(f\"MSE: {uci_cc_mse}\")\n",
    "print(f\"MAPE: {uci_cc_mape}\")"
   ]
  },
  {
   "cell_type": "code",
   "execution_count": null,
   "metadata": {},
   "outputs": [],
   "source": [
    "# Plot\n",
    "plt.figure(figsize=(15, 5))\n",
    "\n",
    "plt.scatter(\n",
    "    uci_cc_data_train[\"Month_Num\"],\n",
    "    uci_cc_data_train[\"BILL_AMT\"],\n",
    "    label = \"TRAINING SET\",\n",
    "    color = 'blue'\n",
    ")\n",
    "\n",
    "plt.scatter(\n",
    "    uci_cc_data_test[\"Month_Num\"],\n",
    "    uci_cc_data_test[\"BILL_AMT\"],\n",
    "    label = \"TEST SET\",\n",
    "    color = 'orange'\n",
    ")\n",
    "\n",
    "plt.scatter(\n",
    "    uci_cc_data_test[\"Month_Num\"],\n",
    "    uci_cc_sarima_forecast,\n",
    "    label = \"PREDICTIONS\",\n",
    "    color = 'red',\n",
    "    marker = 'x',\n",
    "    s = 100\n",
    ")\n",
    "\n",
    "# Set x-axis labels to months\n",
    "plt.xticks(list(uci_cc_month_mapping.values()), list(uci_cc_month_mapping.keys()))\n",
    "plt.title(\"BILL_AMT vs Month\")\n",
    "plt.legend(loc='lower right',)\n",
    "plt.show()"
   ]
  },
  {
   "cell_type": "code",
   "execution_count": null,
   "metadata": {},
   "outputs": [],
   "source": [
    "# Predict the BILL_AMT for month 7 to month 12\n",
    "uci_cc_sarima_future_forecast = uci_cc_sarima_model_fit.forecast(steps = len(uci_cc_data_future))\n",
    "\n",
    "uci_cc_sarima_future_forecast"
   ]
  },
  {
   "cell_type": "code",
   "execution_count": null,
   "metadata": {},
   "outputs": [],
   "source": [
    "# Plot\n",
    "plt.figure(figsize=(15, 5))\n",
    "\n",
    "plt.scatter(\n",
    "    uci_cc_data_train[\"Month_Num\"],\n",
    "    uci_cc_data_train[\"BILL_AMT\"],\n",
    "    label = \"TRAINING SET\",\n",
    "    color = 'blue'\n",
    ")\n",
    "\n",
    "plt.scatter(\n",
    "    uci_cc_data_test[\"Month_Num\"],\n",
    "    uci_cc_data_test[\"BILL_AMT\"],\n",
    "    label=\"TEST SET\",\n",
    "    color='orange'\n",
    ")\n",
    "\n",
    "plt.scatter(\n",
    "    uci_cc_data_test[\"Month_Num\"],\n",
    "    uci_cc_sarima_forecast,\n",
    "    label = \"PREDICTIONS\",\n",
    "    color = 'red',\n",
    "    marker = 'x',\n",
    "    s = 100\n",
    ")\n",
    "\n",
    "plt.scatter(\n",
    "    uci_cc_data_future[\"Month_Num\"],\n",
    "    uci_cc_sarima_future_forecast,\n",
    "    label = \"PREDICTIONS\",\n",
    "    color = 'green',\n",
    "    marker = 'x',\n",
    "    s = 100\n",
    ")\n",
    "\n",
    "# Set x-axis labels to months\n",
    "plt.xticks(list(uci_cc_month_mapping.values()), list(uci_cc_month_mapping.keys()))\n",
    "plt.title(\"BILL_AMT vs Month\")\n",
    "plt.legend(loc = 'lower right',)\n",
    "plt.show()"
   ]
  }
 ],
 "metadata": {
  "kernelspec": {
   "display_name": "Python 3",
   "language": "python",
   "name": "python3"
  },
  "language_info": {
   "codemirror_mode": {
    "name": "ipython",
    "version": 3
   },
   "file_extension": ".py",
   "mimetype": "text/x-python",
   "name": "python",
   "nbconvert_exporter": "python",
   "pygments_lexer": "ipython3",
   "version": "3.9.6"
  }
 },
 "nbformat": 4,
 "nbformat_minor": 2
}
